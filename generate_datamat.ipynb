{
 "cells": [
  {
   "cell_type": "code",
   "execution_count": 1,
   "id": "660baf22",
   "metadata": {},
   "outputs": [],
   "source": [
    "import scipy.io as sio \n",
    "import numpy as np\n",
    "import cv2\n",
    "import os\n",
    "from random import shuffle"
   ]
  },
  {
   "cell_type": "code",
   "execution_count": 2,
   "id": "3c531023",
   "metadata": {},
   "outputs": [],
   "source": [
    "data_path = os.getcwd() + '/dataset/train'\n",
    "num_per_class = 200\n",
    "train_ratio = 1\n",
    "train_mat_path = './train.mat'\n",
    "test_mat_path = './test.mat'"
   ]
  },
  {
   "cell_type": "code",
   "execution_count": 3,
   "id": "c99cec73",
   "metadata": {},
   "outputs": [
    {
     "name": "stdout",
     "output_type": "stream",
     "text": [
      "['scissors', 'rock', 'paper']\n"
     ]
    }
   ],
   "source": [
    "all_class = os.listdir(data_path)\n",
    "print(all_class)\n",
    "Y_data = []"
   ]
  },
  {
   "cell_type": "code",
   "execution_count": 4,
   "id": "e5bfa276",
   "metadata": {},
   "outputs": [
    {
     "name": "stdout",
     "output_type": "stream",
     "text": [
      "save: ./train.mat\n"
     ]
    }
   ],
   "source": [
    "cwd  = os.getcwd()\n",
    "#print(cwd)\n",
    "\n",
    "class_count = 0\n",
    "x_data = []\n",
    "y_onehot = []\n",
    "\n",
    "for class_ in all_class:\n",
    "    os.chdir(os.path.join(data_path, class_))\n",
    "\n",
    "    img_names = os.listdir(\"./\")\n",
    "    if len(img_names) > num_per_class:\n",
    "    # choose some img in class\n",
    "        shuffle(img_names)\n",
    "        img_names = img_names[:num_per_class]\n",
    "\n",
    "    for img_name in img_names:\n",
    "        img = cv2.imread(img_name)\n",
    "        img = cv2.resize(img, (224, 224), interpolation=cv2.INTER_AREA)\n",
    "        x_data.append(img)\n",
    "    \n",
    "    onehot = [0]*len(all_class)\n",
    "    onehot[class_count] = 1\n",
    "    y_onehot += [onehot]*num_per_class\n",
    "    class_count += 1\n",
    "\n",
    "os.chdir(cwd)\n",
    "\n",
    "# --- splite train & test ---\n",
    "total_num = len(x_data)\n",
    "train_num = int(total_num*train_ratio)\n",
    "\n",
    "shuffle_list = [i for i in range(total_num)]\n",
    "shuffle(shuffle_list)\n",
    "\n",
    "shuffled_x = []\n",
    "shuffled_y = []\n",
    "for idx in shuffle_list:\n",
    "    shuffled_x.append(x_data[idx])\n",
    "    shuffled_y.append(y_onehot[idx])\n",
    "\n",
    "sio.savemat(train_mat_path, {'x_data': shuffled_x[:train_num], 'y_onehot': shuffled_y[:train_num], \n",
    "                             'class_name': all_class})\n",
    "print('save:', train_mat_path)\n",
    "\n",
    "if train_ratio != 1:\n",
    "    sio.savemat(test_mat_path, {'x_data': shuffled_x[train_num:], 'y_onehot': shuffled_y[train_num:], \n",
    "                                'class_name': all_class})\n",
    "    print(\"save:\", test_mat_path)"
   ]
  }
 ],
 "metadata": {
  "kernelspec": {
   "display_name": "Python 3",
   "language": "python",
   "name": "python3"
  },
  "language_info": {
   "codemirror_mode": {
    "name": "ipython",
    "version": 3
   },
   "file_extension": ".py",
   "mimetype": "text/x-python",
   "name": "python",
   "nbconvert_exporter": "python",
   "pygments_lexer": "ipython3",
   "version": "3.10.13"
  }
 },
 "nbformat": 4,
 "nbformat_minor": 5
}
